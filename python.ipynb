{
 "cells": [
  {
   "cell_type": "markdown",
   "id": "0019f6e9-6d93-4380-825c-e0bf1e249a95",
   "metadata": {},
   "source": [
    "Question 6 Python\n",
    "16. You can turn a word into pig-Latin using the following two rules (simplified):\n",
    "• If the word starts with a consonant, move that letter to the end and append \n",
    "'ay'. For example, 'happy' becomes 'appyhay' and 'pencil' becomes 'encilpay'.\n",
    "• If the word starts with a vowel, simply append 'way' to the end of the word. \n",
    "For example, 'enter' becomes 'enterway' and 'other' becomes 'otherway' . For \n",
    "our purposes, there are 5 vowels: a, e, i, o, u (so we count y as a consonant).\n",
    "Write a function pig() that takes a word (i.e., a string) as input and returns its pig\u0002Latin form. Your function should still work if the input word contains upper case \n",
    "characters. Your output should always be lower case however. \n",
    ">>> pig('happy')\n",
    "'appyhay'\n",
    ">>> pig('Enter')\n",
    "'enterway'"
   ]
  },
  {
   "cell_type": "code",
   "execution_count": 17,
   "id": "f4e7e3a6-5978-41f0-95f3-2c0783fcd330",
   "metadata": {},
   "outputs": [
    {
     "name": "stdin",
     "output_type": "stream",
     "text": [
      "Enter a word : gg\n",
      "Enter another word :  ggj\n"
     ]
    },
    {
     "name": "stdout",
     "output_type": "stream",
     "text": [
      "ggay\n",
      "gjgay\n"
     ]
    }
   ],
   "source": [
    "def pig(word):\n",
    "    x = ['a','e','i','o','u']\n",
    "    if word[0] in x:\n",
    "        word = word + 'way'\n",
    "    else:\n",
    "        word = word[1:] + word[0] + 'ay'\n",
    "    return word\n",
    "\n",
    "word1 = input(\"Enter a word :\")\n",
    "word1 = word1.lower()\n",
    "word2 = input(\"Enter another word : \")\n",
    "word2 = word2.lower()\n",
    "print(pig(word1))\n",
    "print(pig(word2))"
   ]
  },
  {
   "cell_type": "code",
   "execution_count": null,
   "id": "ce79892a-f9fd-41a2-8863-de3f91593f52",
   "metadata": {},
   "outputs": [],
   "source": [
    "Question 7 Python\n",
    "File bloodtype1.txt records blood-types of patients (A, B, AB, O or OO) at a clinic. \n",
    "Write a function bldcount() that reads the file with name name and reports (i.e., \n",
    "prints) how many patients there are in each bloodtype.\n",
    ">>> bldcount('bloodtype.txt')\n",
    "There are 10 patients of blood type A.\n",
    "There is one patient of blood type B.\n",
    "There are 10 patients of blood type AB.\n",
    "There are 12 patients of blood type O.\n",
    "There are no patients of blood type OO.\n"
   ]
  },
  {
   "cell_type": "code",
   "execution_count": 20,
   "id": "573a8bf1-4a3a-49ef-8109-d7a87bf4103d",
   "metadata": {},
   "outputs": [
    {
     "name": "stdout",
     "output_type": "stream",
     "text": [
      "File 'bloodtype.txt' not found.\n"
     ]
    }
   ],
   "source": [
    "def bldcount(filename):\n",
    "    # Initialize counts for each blood type\n",
    "    a, b, ab, o, oo = 0, 0, 0, 0, 0\n",
    "\n",
    "    # Open and read the file\n",
    "    try:\n",
    "        with open(filename, 'r') as f:\n",
    "            # Read the entire file as a single string\n",
    "            word = f.read()\n",
    "\n",
    "            # Split the string into words\n",
    "            count = word.split()\n",
    "\n",
    "            # Loop through the words and count the blood types\n",
    "            for blood_type in count:\n",
    "                # Convert to uppercase to handle variations\n",
    "                blood_type = blood_type.upper()\n",
    "                if blood_type == 'A':\n",
    "                    a += 1\n",
    "                elif blood_type == 'B':\n",
    "                    b += 1\n",
    "                elif blood_type == 'AB':\n",
    "                    ab += 1\n",
    "                elif blood_type == 'O':\n",
    "                    o += 1\n",
    "                elif blood_type == 'OO':\n",
    "                    oo += 1\n",
    "\n",
    "        # Print the counts for each blood type\n",
    "        print('There are {} patients of blood type A'.format(a))\n",
    "        print('There are {} patients of blood type B'.format(b))\n",
    "        print('There are {} patients of blood type AB'.format(ab))\n",
    "        print('There are {} patients of blood type O'.format(o))\n",
    "        print('There are {} patients of blood type OO'.format(oo))\n",
    "    except FileNotFoundError:\n",
    "        print(f\"File '{filename}' not found.\")\n",
    "\n",
    "# Call the function with the filename 'bloodtype.txt'\n",
    "bldcount('bloodtype.txt')\n",
    "\n"
   ]
  },
  {
   "cell_type": "markdown",
   "id": "4dc20dff-d199-45f7-8866-c9aa8cb6a1a3",
   "metadata": {},
   "source": [
    "Question 8 Python\n",
    "Write a function curconv() that takes as input:\n",
    "1. a currency represented using a string (e.g., 'JPY' for the Japanese Yen or \n",
    "'EUR' for the Euro)\n",
    "2. an amount\n",
    "and then converts and returns the amount in US dollars.\n",
    ">>> curconv('EUR', 100)\n",
    "122.96544\n",
    ">>> curconv('JPY', 100)\n",
    "1.241401\n",
    "The currency rates you will need are stored in file currencies.txt:\n",
    "AUD 1.0345157 Australian Dollar\n",
    "CHF 1.0237414 Swiss Franc\n",
    "CNY 0.1550176 Chinese Yuan\n",
    "DKK 0.1651442 Danish Krone\n",
    "EUR 1.2296544 Euro\n",
    "GBP 1.5550989 British Pound\n",
    "HKD 0.1270207 Hong Kong Dollar\n",
    "INR 0.0177643 Indian Rupee\n",
    "JPY 0.01241401 Japanese Yen\n",
    "MXN 0.0751848 Mexican Peso\n",
    "MYR 0.3145411 Malaysian Ringgit\n",
    "NOK 0.1677063 Norwegian Krone\n",
    "NZD 0.8003591 New Zealand Dollar\n",
    "PHP 0.0233234 Philippine Peso\n",
    "SEK 0.148269 Swedish Krona\n",
    "SGD 0.788871 Singapore Dollar\n",
    "THB 0.0313789 Thai Baht"
   ]
  },
  {
   "cell_type": "code",
   "execution_count": 11,
   "id": "c9110804-380d-4817-81ab-3785e62aef12",
   "metadata": {},
   "outputs": [],
   "source": [
    "def curconv(cur,amt):\n",
    "    currates = {'AUD': 1.0345157,'CHF':1.0237414 ,'CNY':0.1550176,'DKK':0.1651442,'EUR':1.2296544 ,'GBP':1.5550989,'HKD':0.1270207, 'INR':0.0177643, 'JPY':0.01241401, 'MXN':0.0751848,'MYR':0.3145411, 'NOK':0.1677063,'NZD':0.8003591,'PHP':0.0233234,'SEK':0.148269,'SGD':0.788871,'THB':0.0313789}\n",
    "   \n",
    "    if cur in currates:\n",
    "        usdconv = currates[cur]*amt\n",
    "        \n",
    "    return usdconv"
   ]
  },
  {
   "cell_type": "code",
   "execution_count": 9,
   "id": "5fec0a2f-7b03-4937-971b-413634f0b581",
   "metadata": {},
   "outputs": [
    {
     "data": {
      "text/plain": [
       "122.96544"
      ]
     },
     "execution_count": 9,
     "metadata": {},
     "output_type": "execute_result"
    }
   ],
   "source": [
    "curconv('EUR', 100)"
   ]
  },
  {
   "cell_type": "code",
   "execution_count": 10,
   "id": "21751385-5b37-4a9c-9ff7-f9fde654d4f3",
   "metadata": {},
   "outputs": [
    {
     "data": {
      "text/plain": [
       "1.241401"
      ]
     },
     "execution_count": 10,
     "metadata": {},
     "output_type": "execute_result"
    }
   ],
   "source": [
    " curconv('JPY', 100)"
   ]
  },
  {
   "cell_type": "markdown",
   "id": "3a06031f-d365-4b7f-9824-c58770fbc0bb",
   "metadata": {},
   "source": [
    "Question 9 Python\n",
    "Each of the following will cause an exception (an error). Identify what type of \n",
    "exception each will cause.\n",
    "a.Trying to add incompatible variables, as in \n",
    "adding 6 + ‘a’\n",
    "b.Referring to the 12th item of a list that has only 10 \n",
    "items\n",
    "c.Using a value that is out of range for a function’s \n",
    "input, such as calling math.sqrt(-1.0)\n",
    "d.Using an undeclared variable, such as print(x)\n",
    "when x has not been defined \n",
    "e.Trying to open a file that does not exist, such as \n",
    "mistyping the file name or looking in the wrong \n",
    "directory."
   ]
  },
  {
   "cell_type": "markdown",
   "id": "ab06ec37-550f-4dd2-9cf7-1480cf06b442",
   "metadata": {},
   "source": [
    "a.Trying to add incompatible variables, as in \n",
    "adding 6 + ‘a’\n",
    "TypeError: unsupported operand type(s) for +: 'int' and 'str'\n",
    "\n",
    "b.b.Referring to the 12th item of a list that has only 10 \n",
    "items\n",
    "IndexError = list index out of range\n",
    "\n",
    "c.Using a value that is out of range for a function’s \n",
    "input, such as calling math.sqrt(-1.0)\n",
    "ValueError: math domain error\n",
    "\n",
    "d.Using an undeclared variable, such as print(x)\n",
    "when x has not been defined \n",
    " NameError: name 'x' is not defined\n",
    "\n",
    "e.Trying to open a file that does not exist, such as \n",
    "mistyping the file name or looking in the wrong \n",
    "directory.\n",
    "FileNotFoundError: [Errno 2] No such file or directory: 'nonexistent_file.txt'"
   ]
  },
  {
   "cell_type": "markdown",
   "id": "57e2a804-bee5-47d6-a980-d40488c88011",
   "metadata": {},
   "source": [
    "Question 10 Python\n",
    "Encryption is the process of hiding the meaning of a text by substituting letters in the \n",
    "message with other letters, according to some system. If the process is successful, no \n",
    "one but the intended recipient can understand the encrypted message. Cryptanalysis\n",
    "refers to attempts to undo the encryption, even if some details of the encryption are \n",
    "unknown (for example, if an encrypted message has been intercepted). The first step \n",
    "of cryptanalysis is often to build up a table of letter frequencies in the encrypted text. \n",
    "Assume that the string letters is already defined as \n",
    "'abcdefghijklmnopqrstuvwxyz'. Write a function called frequencies()\n",
    "that takes a string as its only parameter, and returns a list of integers, showing the \n",
    "number of times each character appears in the text. Your function may ignore any \n",
    "characters that are not in letters. \n",
    ">>> frequencies('The quick red fox got bored and went home.')\n",
    "[1, 1, 1, 3, 5, 1, 1, 2, 1, 0, 1, 0, 1, 2, 4, 0, 1, 2, 0, 2, \n",
    "1, 0, 1, 1, 0, 0]\n",
    ">>> frequencies('apple')"
   ]
  },
  {
   "cell_type": "code",
   "execution_count": 13,
   "id": "0eca8cd0-946e-42e9-8513-17aac23b093a",
   "metadata": {},
   "outputs": [],
   "source": [
    "def frequencies(text):\n",
    "    lwrcase = text.lower()\n",
    "    letters ='abcdefghijklmnopqrstuvwxyz'\n",
    "    freq = [0]*26\n",
    "    for char in lwrcase:\n",
    "        if char in letters:\n",
    "            index=letters.index(char)\n",
    "            freq[index] +=1\n",
    "        else:\n",
    "            freq[index]=1\n",
    "    return freq\n"
   ]
  },
  {
   "cell_type": "code",
   "execution_count": 14,
   "id": "3e3a0418-a2be-4042-a54e-efba1bbb0c03",
   "metadata": {},
   "outputs": [
    {
     "data": {
      "text/plain": [
       "[1, 1, 1, 1, 5, 1, 1, 2, 1, 0, 1, 0, 1, 2, 4, 0, 1, 2, 0, 1, 1, 0, 1, 1, 0, 0]"
      ]
     },
     "execution_count": 14,
     "metadata": {},
     "output_type": "execute_result"
    }
   ],
   "source": [
    "frequencies('The quick red fox got bored and went home')"
   ]
  },
  {
   "cell_type": "code",
   "execution_count": 15,
   "id": "f8abd5d2-801f-4e27-8623-aa94662bd027",
   "metadata": {},
   "outputs": [
    {
     "data": {
      "text/plain": [
       "[1, 0, 0, 0, 1, 0, 0, 0, 0, 0, 0, 1, 0, 0, 0, 2, 0, 0, 0, 0, 0, 0, 0, 0, 0, 0]"
      ]
     },
     "execution_count": 15,
     "metadata": {},
     "output_type": "execute_result"
    }
   ],
   "source": [
    "frequencies('apple')"
   ]
  },
  {
   "cell_type": "code",
   "execution_count": null,
   "id": "176b9d08-538f-4d33-8542-9dc7e310742f",
   "metadata": {},
   "outputs": [],
   "source": []
  }
 ],
 "metadata": {
  "kernelspec": {
   "display_name": "Python 3 (ipykernel)",
   "language": "python",
   "name": "python3"
  },
  "language_info": {
   "codemirror_mode": {
    "name": "ipython",
    "version": 3
   },
   "file_extension": ".py",
   "mimetype": "text/x-python",
   "name": "python",
   "nbconvert_exporter": "python",
   "pygments_lexer": "ipython3",
   "version": "3.9.7"
  }
 },
 "nbformat": 4,
 "nbformat_minor": 5
}
