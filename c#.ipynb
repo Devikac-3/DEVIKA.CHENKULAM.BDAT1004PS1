{
 "cells": [
  {
   "cell_type": "markdown",
   "id": "ef608f45-032d-468b-b79e-2f30b5e65d02",
   "metadata": {},
   "source": [
    "# QUESTION 1\n",
    "​\n",
    "What data type is each of the following?\n",
    "​\n",
    "5 - int\n",
    "​\n",
    "5.0 - double\n",
    "​\n",
    "5 > 1 - bool\n",
    "​\n",
    "'5' - char\n",
    "​\n",
    "5 * 2 - int\n",
    "​\n",
    "'5' * 2 -string\n",
    "​\n",
    "'5' + '2' - string\n",
    "​\n",
    "5 / 2 - double\n",
    "​\n",
    "5 % 2 - int\n",
    "​\n",
    "{5, 2, 1} - List <int>\n",
    "    \n",
    "5 == 3 - bool\n",
    "    \n",
    "Pi (the number - double"
   ]
  },
  {
   "cell_type": "markdown",
   "id": "46e42fcc-9d94-4687-992f-a322c2e7bf80",
   "metadata": {},
   "source": [
    "Question 2 C#\n",
    "Write (and evaluate) C# expressions that answer these questions:\n",
    "a. How many letters are there in 'Supercalifragilisticexpialidocious'?\n",
    "b. Does 'Supercalifragilisticexpialidocious' contain 'ice' as a substring?\n",
    "c. Which of the following words is the longest: \n",
    "Supercalifragilisticexpialidocious, Honorificabilitudinitatibus, or \n",
    "Bababadalgharaghtakamminarronnkonn? \n",
    "d. Which composer comes first in the dictionary: 'Berlioz', 'Borodin', 'Brian', \n",
    "'Bartok', 'Bellini', 'Buxtehude', 'Bernstein'. Which one comes last?\n"
   ]
  },
  {
   "cell_type": "code",
   "execution_count": 2,
   "id": "2ad4839e-493d-4bff-9553-050c3b5a0c3d",
   "metadata": {},
   "outputs": [
    {
     "name": "stdout",
     "output_type": "stream",
     "text": [
      "The word 'Supercalifragilisticexpialidocious' contains 34 letters.\n",
      "Does the word 'Supercalifragilisticexpialidocious' contain 'ice' as a substring? True\n",
      "The longest word is: 'Supercalifragilisticexpialidocious'\n",
      "The first composer in the dictionary is: Bartok\n",
      "The last composer in the dictionary is: Buxtehude\n"
     ]
    }
   ],
   "source": [
    "//a. How many letters are there in 'Supercalifragilisticexpialidocious'?\n",
    "string wordToCount = \"Supercalifragilisticexpialidocious\";\n",
    "int letterCount = wordToCount.Length;\n",
    "Console.WriteLine($\"The word '{wordToCount}' contains {letterCount} letters.\");\n",
    "\n",
    "//b. Does 'Supercalifragilisticexpialidocious' contain 'ice' as a substring?\n",
    "string wordToCheck = \"Supercalifragilisticexpialidocious\";\n",
    "string substringToFind = \"ice\";\n",
    "bool containsSubstring = wordToCheck.Contains(substringToFind);\n",
    "Console.WriteLine($\"Does the word '{wordToCheck}' contain '{substringToFind}' as a substring? {containsSubstring}\");\n",
    "\n",
    "//c. Which of the following words is the longest: \n",
    "//Supercalifragilisticexpialidocious, Honorificabilitudinitatibus, or \n",
    "//Bababadalgharaghtakamminarronnkonn? \n",
    "string[] wordsToCompare = {\n",
    "            \"Supercalifragilisticexpialidocious\",\n",
    "            \"Honorificabilitudinitatibus\",\n",
    "            \"Bababadalgharaghtakamminarronnkonn\"\n",
    "        };\n",
    "string longestWord = wordsToCompare.OrderByDescending(word => word.Length).First();\n",
    "        Console.WriteLine($\"The longest word is: '{longestWord}'\");\n",
    "\n",
    "    //d. Which composer comes first in the dictionary: 'Berlioz', 'Borodin', 'Brian', \n",
    "//'Bartok', 'Bellini', 'Buxtehude', 'Bernstein'. Which one comes last?\n",
    "        string[] composers = {\n",
    "            \"Berlioz\",\n",
    "            \"Borodin\",\n",
    "            \"Brian\",\n",
    "            \"Bartok\",\n",
    "            \"Bellini\",\n",
    "            \"Buxtehude\",\n",
    "            \"Bernstein\"\n",
    "        };\n",
    "\n",
    "        string firstComposer = composers.OrderBy(composer => composer).First();\n",
    "        string lastComposer = composers.OrderBy(composer => composer).Last();\n",
    "\n",
    "        Console.WriteLine($\"The first composer in the dictionary is: {firstComposer}\");\n",
    "        Console.WriteLine($\"The last composer in the dictionary is: {lastComposer}\");\n",
    "    \n",
    "\n",
    "\n",
    "\n",
    "\n"
   ]
  },
  {
   "cell_type": "markdown",
   "id": "ab76937d-3628-40af-af07-acd63fdbc0a4",
   "metadata": {},
   "source": [
    "Question 3 C#\n",
    "Implement function triangleArea(a,b,c) that takes as input the lengths of the 3\n",
    "sides of a triangle and returns the area of the triangle. By Heron's formula, the area \n",
    "of a triangle with side lengths a, b, and c is\n",
    "s(s - a)(s -b)(s -c)\n",
    ", where \n",
    "s = (a+b+c)/2. \n",
    ">>> triangleArea(2,2,2)\n",
    "1.7320508075688772"
   ]
  },
  {
   "cell_type": "code",
   "execution_count": 4,
   "id": "0b29082a-e6d4-4011-ac56-ba2b69369c2b",
   "metadata": {},
   "outputs": [
    {
     "name": "stdout",
     "output_type": "stream",
     "text": [
      "The area of the triangle is: 1.7320508075688772\n"
     ]
    }
   ],
   "source": [
    "   {\n",
    "        // Calculate the area of a triangle with sides of length 2, 2, and 2\n",
    "        double triangleArea = CalculateTriangleArea(2, 2, 2);\n",
    "\n",
    "        // Print the calculated area to the console\n",
    "        Console.WriteLine(\"The area of the triangle is: \" + triangleArea);\n",
    "    }\n",
    "\n",
    "    static double CalculateTriangleArea(double sideA, double sideB, double sideC)\n",
    "    {\n",
    "        // Calculate the semi-perimeter (s) of the triangle\n",
    "        double semiPerimeter = (sideA + sideB + sideC) / 2;\n",
    "\n",
    "        // Calculate the area of the triangle using Heron's formula\n",
    "        double area = Math.Sqrt(semiPerimeter * (semiPerimeter - sideA) * (semiPerimeter - sideB) * (semiPerimeter - sideC));\n",
    "\n",
    "        // Return the calculated area\n",
    "        return area;\n",
    "    }\n",
    "\n"
   ]
  },
  {
   "cell_type": "markdown",
   "id": "958d1e97-41b1-4068-abfa-e58a4db80220",
   "metadata": {},
   "source": [
    "Question 4 C#\n",
    "Write a program in C# Sharp to separate odd and even integers in separate arrays. \n",
    "Go to the editor\n",
    "Test Data :\n",
    "Input the number of elements to be stored in the array :5\n",
    "Input 5 elements in the array :\n",
    "element - 0 : 25\n",
    "element - 1 : 47\n",
    "element - 2 : 42\n",
    "element - 3 : 56\n",
    "element - 4 : 32\n",
    "Expected Output:\n",
    "The Even elements are:\n",
    "42 56 32\n",
    "The Odd elements are :\n",
    "25 47\n"
   ]
  },
  {
   "cell_type": "code",
   "execution_count": 16,
   "id": "0eaed58b-15a3-403c-bc0e-27274665c069",
   "metadata": {},
   "outputs": [
    {
     "name": "stdout",
     "output_type": "stream",
     "text": [
      "Even numbers: 42 56 32 \n",
      "Odd numbers: 23 47 "
     ]
    }
   ],
   "source": [
    "int[] originalArray = { 23, 47, 42, 56, 32 };\n",
    "        int l = originalArray.Length;\n",
    "        int[] evenArray = new int[l]; // Initialize an array to store even numbers\n",
    "        int[] oddArray = new int[l];  // Initialize an array to store odd numbers\n",
    "\n",
    "        int evenCount = 0;\n",
    "        int oddCount = 0;\n",
    "\n",
    "        foreach (int num in originalArray)\n",
    "        {\n",
    "            if (num % 2 == 0)\n",
    "            {\n",
    "                evenArray[evenCount] = num;\n",
    "                evenCount++;\n",
    "            }\n",
    "            else\n",
    "            {\n",
    "                oddArray[oddCount] = num;\n",
    "                oddCount++;\n",
    "            }\n",
    "        }\n",
    "\n",
    "        // Print even numbers\n",
    "        Console.Write(\"Even numbers: \");\n",
    "        for (int i = 0; i < evenCount; i++)\n",
    "        {\n",
    "            Console.Write(evenArray[i] + \" \");\n",
    "        }\n",
    "\n",
    "        Console.WriteLine(); // Newline for separation\n",
    "\n",
    "        // Print odd numbers\n",
    "        Console.Write(\"Odd numbers: \");\n",
    "        for (int i = 0; i < oddCount; i++)\n",
    "        {\n",
    "            Console.Write(oddArray[i] + \" \");\n",
    "        }\n",
    "\n"
   ]
  },
  {
   "cell_type": "markdown",
   "id": "b72e5953-8dc3-4145-aed4-64d078c3f6b1",
   "metadata": {},
   "source": [
    "Question 5 C#\n",
    "a. Write a function inside(x,y,x1,y1,x2,y2) that returns True or False \n",
    "depending on whether the point (x,y) lies in the rectangle with lower left \n",
    "corner (x1,y1) and upper right corner (x2,y2).\n",
    ">>> inside(1,1,0,0,2,3)\n",
    "True\n",
    ">>> inside(-1,-1,0,0,2,3)\n",
    "False\n",
    "\n",
    "b. Use function inside() from part a. to write an expression that tests whether \n",
    "the point (1,1) lies in both of the following rectangles: one with lower left \n",
    "corner (0.3, 0.5) and upper right corner (1.1, 0.7) and the other with lower \n",
    "left corner (0.5, 0.2) and upper right corner (1.1, 2). "
   ]
  },
  {
   "cell_type": "code",
   "execution_count": 18,
   "id": "7708464e-a64e-4cc3-9eca-9e0b363ed6ba",
   "metadata": {},
   "outputs": [
    {
     "name": "stdout",
     "output_type": "stream",
     "text": [
      "Is point (1, 1) inside rectangle (0, 0, 2, 3): True\n",
      "Is point (-1, -1) inside rectangle (0, 0, 2, 3): False\n",
      "Is (1, 1) inside the first rectangle False\n",
      "Is (1, 1) inside the second rectangle True\n"
     ]
    }
   ],
   "source": [
    "//a. Write a function inside(x,y,x1,y1,x2,y2) that returns True or False \n",
    "//depending on whether the point (x,y) lies in the rectangle with lower left \n",
    "//corner (x1,y1) and upper right corner (x2,y2).\n",
    "//>>> inside(1,1,0,0,2,3)\n",
    "//True\n",
    "//>>> inside(-1,-1,0,0,2,3)\n",
    "//False\n",
    "\n",
    "// Function to check if a point (x, y) is inside a rectangle defined by two points (x1, y1) and (x2, y2)\n",
    "static bool IsInsideRectangle(double x, double y, double x1, double y1, double x2, double y2)\n",
    "{\n",
    "    return (x >= x1 && x <= x2 && y >= y1 && y <= y2);\n",
    "}\n",
    "\n",
    "// Test cases\n",
    "double point1X = 1;\n",
    "double point1Y = 1;\n",
    "double rect1X1 = 0;\n",
    "double rect1Y1 = 0;\n",
    "double rect1X2 = 2;\n",
    "double rect1Y2 = 3;\n",
    "\n",
    "double point2X = -1;\n",
    "double point2Y = -1;\n",
    "double rect2X1 = 0;\n",
    "double rect2Y1 = 0;\n",
    "double rect2X2 = 2;\n",
    "double rect2Y2 = 3;\n",
    "\n",
    "// Check if the first point is inside the first rectangle\n",
    "bool insideRect1 = IsInsideRectangle(point1X, point1Y, rect1X1, rect1Y1, rect1X2, rect1Y2);\n",
    "\n",
    "// Check if the second point is inside the second rectangle\n",
    "bool insideRect2 = IsInsideRectangle(point2X, point2Y, rect2X1, rect2Y1, rect2X2, rect2Y2);\n",
    "\n",
    "// Print the results\n",
    "Console.WriteLine($\"Is point ({point1X}, {point1Y}) inside rectangle ({rect1X1}, {rect1Y1}, {rect1X2}, {rect1Y2}): {insideRect1}\");\n",
    "Console.WriteLine($\"Is point ({point2X}, {point2Y}) inside rectangle ({rect2X1}, {rect2Y1}, {rect2X2}, {rect2Y2}): {insideRect2}\");\n",
    "\n",
    "//b. Use function inside() from part a. to write an expression that tests whether \n",
    "//the point (1,1) lies in both of the following rectangles: one with lower left \n",
    "//corner (0.3, 0.5) and upper right corner (1.1, 0.7) and the other with lower \n",
    "//left corner (0.5, 0.2) and upper right corner (1.1, 2). \n",
    "\n",
    "public static bool Inside(double x, double y, double x1, double y1, double x2, double y2)\n",
    "{\n",
    "    return x >= x1 && x <= x2 && y >= y1 && y <= y2;\n",
    "}\n",
    "bool isInsideRectangle1 = Inside(1, 1, 0.3, 0.5, 1.1, 0.7);\n",
    "bool isInsideRectangle2 = Inside(1, 1, 0.5, 0.2, 1.1, 2);\n",
    "\n",
    "Console.WriteLine(\"Is (1, 1) inside the first rectangle \" + isInsideRectangle1);\n",
    "Console.WriteLine(\"Is (1, 1) inside the second rectangle \" + isInsideRectangle2);"
   ]
  },
  {
   "cell_type": "code",
   "execution_count": null,
   "id": "329fefcd-b3f5-415d-92cc-b0cbbeefbcae",
   "metadata": {},
   "outputs": [],
   "source": []
  }
 ],
 "metadata": {
  "kernelspec": {
   "display_name": ".NET (C#)",
   "language": "C#",
   "name": ".net-csharp"
  },
  "language_info": {
   "file_extension": ".cs",
   "mimetype": "text/x-csharp",
   "name": "C#",
   "pygments_lexer": "csharp",
   "version": "11.0"
  }
 },
 "nbformat": 4,
 "nbformat_minor": 5
}
